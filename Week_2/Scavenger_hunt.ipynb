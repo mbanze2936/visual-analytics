{
 "cells": [
  {
   "cell_type": "code",
   "execution_count": 1,
   "metadata": {},
   "outputs": [],
   "source": [
    "import matplotlib.pyplot as plt\n",
    "import numpy as np\n",
    "\n",
    "def read_waveforms(LA, RV, RA) :\n",
    "    infile = open('waveforms.csv', 'r')\n",
    "\n",
    "    line = infile.readline()\n",
    "    wf = 0 # which waveform are we trying to read (0 = LA, 1 = RV, 2 = RA)\n",
    "\n",
    "    while line :\n",
    "        line = line.strip()\n",
    "        data = line.split(',')\n",
    "\n",
    "        for i in range(0, len(data)) : \n",
    "            data[i] = float(data[i])\n",
    "\n",
    "        if(wf == 0) :\n",
    "            LA.append(data)\n",
    "        elif(wf == 1) :\n",
    "            RV.append(data)\n",
    "        elif(wf == 2) :\n",
    "            RA.append(data)\n",
    "        \n",
    "        wf = (wf + 1) % 3\n",
    "        line = infile.readline()\n",
    "\n",
    "    infile.close()\n",
    "\n",
    "def read_times(TL, TR) :\n",
    "    infile = open('times.csv', 'r')\n",
    "    line = infile.readline()\n",
    "    data = line.strip().split(',')\n",
    "\n",
    "    for i in range(0, len(data)) : \n",
    "        data[i] = float(data[i]) * 1000\n",
    "\n",
    "    TL.append(data)\n",
    "\n",
    "    line = infile.readline()\n",
    "    data = line.strip().split(',')\n",
    "\n",
    "    for i in range(0, len(data)) : \n",
    "        data[i] = float(data[i]) * 1000\n",
    "\n",
    "    TR.append(data)\n",
    "    infile.close()\n",
    "\n",
    "def plot_waveforms(LA, RV, RA, TL, TR) :\n",
    "    print('create your individual waveform plots here')\n",
    "\n",
    "# make empty data and time Lists\n",
    "LA_list = []\n",
    "RV_list = []\n",
    "RA_list = []\n",
    "TL_list = []\n",
    "TR_list = []\n",
    "\n",
    "read_waveforms(LA_list, RV_list, RA_list)\n",
    "read_times(TL_list, TR_list)\n",
    "\n",
    "# convert all data and time lists to numpy arrays for plotting\n",
    "LA = np.array(LA_list)\n",
    "RV = np.array(RV_list)\n",
    "RA = np.array(RA_list)\n",
    "TL = np.array(TL_list[0])\n",
    "TR = np.array(TR_list[0])\n",
    "\n"
   ]
  },
  {
   "cell_type": "code",
   "execution_count": 2,
   "metadata": {},
   "outputs": [],
   "source": [
    "num_instances = len(LA)\n",
    "for i in range(0, num_instances) :\n",
    "    plt.subplot( 311 )\n",
    "    plt.plot(TL, LA[7, :])\n",
    "    plt.title('Linear Acceleration of Instance 8')\n",
    "    plt.ylabel('Lin Accel (g)')\n",
    "    plt.xticks(np.arange(0, 55, step=5))\n",
    "    \n",
    "    plt.subplot( 312 )\n",
    "    plt.plot(TR, RV[7, :])\n",
    "    plt.ylabel('Rot Vel(rad/sec) ')\n",
    "    plt.xticks(np.arange(0, 55, step=5))\n",
    "\n",
    "    plt.subplot( 313 )\n",
    "    plt.plot(TR, RA[7, :])\n",
    "    plt.xlabel('Time (ms)')\n",
    "    plt.ylabel('Rot Accel(rad/sec^2) ')\n",
    "    plt.xticks(np.arange(0, 55, step=5))\n",
    "\n",
    "    plt.savefig('Instance ' + str(i + 1) + '.png')\n",
    "    plt.close()\n"
   ]
  },
  {
   "cell_type": "code",
   "execution_count": 3,
   "metadata": {},
   "outputs": [],
   "source": [
    "MLA = []\n",
    "ALA = []\n",
    "PLA = []\n",
    "\n",
    "MRV = []\n",
    "ARV = []\n",
    "PRV = []\n",
    "\n",
    "MRA = []\n",
    "ARA = []\n",
    "PRA = []\n",
    "    \n",
    "for i in range(0,len(LA)):\n",
    "    MLA_l = np.min(LA[i])\n",
    "    MLA.append(MLA_l)\n",
    "    \n",
    "    MRV_l = np.min(RV[i])\n",
    "    MRV.append(MRV_l)\n",
    "    \n",
    "    MRA_l = np.min(RA[i])\n",
    "    MRA.append(MRA_l)\n",
    "    \n",
    "    ALA_l = np.mean(LA[i])\n",
    "    ALA.append(ALA_l)\n",
    "    \n",
    "    ARA_l = np.mean(RA[i])\n",
    "    ARA.append(ARA_l)\n",
    "    \n",
    "    ARV_l = np.mean(RV[i])\n",
    "    ARV.append(ARV_l)\n",
    "    \n",
    "    PLA_l = np.max(LA[i])\n",
    "    PLA.append(PLA_l)\n",
    "    \n",
    "    PRV_l = np.max(RV[i])\n",
    "    PRV.append(PRV_l)\n",
    "    \n",
    "    PRA_l = np.max(RA[i])\n",
    "    PRA.append(PRA_l)"
   ]
  },
  {
   "cell_type": "code",
   "execution_count": 4,
   "metadata": {},
   "outputs": [],
   "source": [
    "plt.plot(ARA)\n",
    "plt.xlabel('Time (ms)')\n",
    "plt.ylabel('Rot Accel(rad/sec^2) ')\n",
    "plt.xticks(np.arange(0, 55, step=5))\n",
    "plt.savefig('Instance ARA.png')\n",
    "plt.close()\n"
   ]
  },
  {
   "cell_type": "code",
   "execution_count": 5,
   "metadata": {},
   "outputs": [],
   "source": [
    "plt.plot(PLA)\n",
    "plt.xlabel('Time (ms)')\n",
    "plt.ylabel('Peak Lin Accel(g) ')\n",
    "plt.xticks(np.arange(0, 55, step=5))\n",
    "plt.savefig('Instance PLA.png')\n",
    "plt.close()"
   ]
  },
  {
   "cell_type": "code",
   "execution_count": 6,
   "metadata": {},
   "outputs": [],
   "source": [
    "plt.plot(PRA)\n",
    "plt.xlabel('Time (ms)')\n",
    "plt.ylabel('Peak Rot Accel(rad/sec^2) ')\n",
    "plt.xticks(np.arange(0, 55, step=5))\n",
    "plt.savefig('Instance PRA.png')\n",
    "plt.close()"
   ]
  },
  {
   "cell_type": "code",
   "execution_count": 7,
   "metadata": {},
   "outputs": [],
   "source": [
    "plt.plot(PRV)\n",
    "plt.xlabel('Time (ms)')\n",
    "plt.ylabel('Peak Rot Vel(rad/sec) ')\n",
    "plt.xticks(np.arange(0, 55, step=5))\n",
    "plt.savefig('Instance PRV.png')\n",
    "plt.close()"
   ]
  },
  {
   "cell_type": "code",
   "execution_count": 8,
   "metadata": {},
   "outputs": [
    {
     "data": {
      "image/png": "[encoded data removed]",
      "text/plain": [
       "<Figure size 432x288 with 1 Axes>"
      ]
     },
     "metadata": {
      "needs_background": "light"
     },
     "output_type": "display_data"
    }
   ],
   "source": [
    "plt.scatter(PLA, PRA)\n",
    "plt.show()"
   ]
  },
  {
   "cell_type": "code",
   "execution_count": 9,
   "metadata": {},
   "outputs": [
    {
     "data": {
      "image/png": "[encoded data removed]",
      "text/plain": [
       "<Figure size 432x288 with 1 Axes>"
      ]
     },
     "metadata": {
      "needs_background": "light"
     },
     "output_type": "display_data"
    }
   ],
   "source": [
    "plt.scatter(PRV, PRA)\n",
    "plt.show()"
   ]
  },
  {
   "cell_type": "code",
   "execution_count": 10,
   "metadata": {},
   "outputs": [
    {
     "data": {
      "image/png": "[encoded data removed]",
      "text/plain": [
       "<Figure size 432x288 with 1 Axes>"
      ]
     },
     "metadata": {
      "needs_background": "light"
     },
     "output_type": "display_data"
    }
   ],
   "source": [
    "plt.scatter(PLA, PRV)\n",
    "plt.show()"
   ]
  },
  {
   "cell_type": "code",
   "execution_count": 32,
   "metadata": {},
   "outputs": [
    {
     "name": "stdout",
     "output_type": "stream",
     "text": [
      "[ 6.0754   6.8808   7.6102   7.6971   8.1978   8.9717  10.7922  12.5103\n",
      " 14.7845  19.3798  24.1574  31.4799  35.773   39.4579  42.916   50.3714\n",
      " 52.5665  52.4645  45.1328  29.6273  23.4105  22.1923  23.7915  25.8328\n",
      " 28.8191  32.0325  29.4953  29.7482  25.2206  22.8782  20.445   18.8563\n",
      " 12.9596  11.2953  10.3239  10.3107   8.2618   6.7277   4.4884   2.1038\n",
      "  0.9767   0.54941  0.51873  1.2056   1.8818   2.768    3.5359   2.9988\n",
      "  2.3043   1.8205   2.1338   2.1783   2.5295   3.1434   3.333    3.4354\n",
      "  3.528    3.3813   4.2649   4.27     4.7181   4.069    2.5396   1.792\n",
      "  2.0038   3.3847   2.6135   3.3993   3.4204   3.6954   2.9472   2.0193\n",
      "  0.64138  0.17289  0.       1.2287   1.039    1.4169   2.0462   1.7491 ]\n"
     ]
    }
   ],
   "source": [
    "sorted_index_array = np.argsort(PLA) \n",
    "\n",
    "  "
   ]
  },
  {
   "cell_type": "code",
   "execution_count": null,
   "metadata": {},
   "outputs": [],
   "source": []
  }
 ],
 "metadata": {
  "kernelspec": {
   "display_name": "Python 3",
   "language": "python",
   "name": "python3"
  },
  "language_info": {
   "codemirror_mode": {
    "name": "ipython",
    "version": 3
   },
   "file_extension": ".py",
   "mimetype": "text/x-python",
   "name": "python",
   "nbconvert_exporter": "python",
   "pygments_lexer": "ipython3",
   "version": "3.8.5"
  }
 },
 "nbformat": 4,
 "nbformat_minor": 4
}
